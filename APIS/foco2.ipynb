{
 "cells": [
  {
   "cell_type": "code",
   "execution_count": 1,
   "metadata": {},
   "outputs": [
    {
     "name": "stdout",
     "output_type": "stream",
     "text": [
      "Requirement already satisfied: tuya-connector-python in c:\\users\\oficina\\appdata\\local\\programs\\python\\python310\\lib\\site-packages (0.1.2)\n",
      "Requirement already satisfied: pycryptodome in c:\\users\\oficina\\appdata\\local\\programs\\python\\python310\\lib\\site-packages (from tuya-connector-python) (3.16.0)\n",
      "Requirement already satisfied: websocket-client in c:\\users\\oficina\\appdata\\local\\programs\\python\\python310\\lib\\site-packages (from tuya-connector-python) (1.4.2)\n",
      "Requirement already satisfied: requests in c:\\users\\oficina\\appdata\\local\\programs\\python\\python310\\lib\\site-packages (from tuya-connector-python) (2.28.2)\n",
      "Requirement already satisfied: certifi>=2017.4.17 in c:\\users\\oficina\\appdata\\local\\programs\\python\\python310\\lib\\site-packages (from requests->tuya-connector-python) (2022.12.7)\n",
      "Requirement already satisfied: charset-normalizer<4,>=2 in c:\\users\\oficina\\appdata\\local\\programs\\python\\python310\\lib\\site-packages (from requests->tuya-connector-python) (3.0.1)\n",
      "Requirement already satisfied: urllib3<1.27,>=1.21.1 in c:\\users\\oficina\\appdata\\local\\programs\\python\\python310\\lib\\site-packages (from requests->tuya-connector-python) (1.26.14)\n",
      "Requirement already satisfied: idna<4,>=2.5 in c:\\users\\oficina\\appdata\\local\\programs\\python\\python310\\lib\\site-packages (from requests->tuya-connector-python) (3.4)\n",
      "Requirement already satisfied: tuya-iot-py-sdk in c:\\users\\oficina\\appdata\\local\\programs\\python\\python310\\lib\\site-packages (0.6.6)\n",
      "Requirement already satisfied: pycryptodome in c:\\users\\oficina\\appdata\\local\\programs\\python\\python310\\lib\\site-packages (from tuya-iot-py-sdk) (3.16.0)\n",
      "Requirement already satisfied: websocket-client in c:\\users\\oficina\\appdata\\local\\programs\\python\\python310\\lib\\site-packages (from tuya-iot-py-sdk) (1.4.2)\n",
      "Requirement already satisfied: paho-mqtt in c:\\users\\oficina\\appdata\\local\\programs\\python\\python310\\lib\\site-packages (from tuya-iot-py-sdk) (1.6.1)\n",
      "Requirement already satisfied: requests in c:\\users\\oficina\\appdata\\local\\programs\\python\\python310\\lib\\site-packages (from tuya-iot-py-sdk) (2.28.2)\n",
      "Requirement already satisfied: certifi>=2017.4.17 in c:\\users\\oficina\\appdata\\local\\programs\\python\\python310\\lib\\site-packages (from requests->tuya-iot-py-sdk) (2022.12.7)\n",
      "Requirement already satisfied: charset-normalizer<4,>=2 in c:\\users\\oficina\\appdata\\local\\programs\\python\\python310\\lib\\site-packages (from requests->tuya-iot-py-sdk) (3.0.1)\n",
      "Requirement already satisfied: urllib3<1.27,>=1.21.1 in c:\\users\\oficina\\appdata\\local\\programs\\python\\python310\\lib\\site-packages (from requests->tuya-iot-py-sdk) (1.26.14)\n",
      "Requirement already satisfied: idna<4,>=2.5 in c:\\users\\oficina\\appdata\\local\\programs\\python\\python310\\lib\\site-packages (from requests->tuya-iot-py-sdk) (3.4)\n",
      "Requirement already satisfied: pycryptodomex in c:\\users\\oficina\\appdata\\local\\programs\\python\\python310\\lib\\site-packages (3.16.0)\n"
     ]
    }
   ],
   "source": [
    "!pip3 install tuya-connector-python\n",
    "!pip3 install tuya-iot-py-sdk\n",
    "!pip3 install pycryptodomex"
   ]
  },
  {
   "cell_type": "code",
   "execution_count": 2,
   "metadata": {},
   "outputs": [],
   "source": [
    "#Datos de configuracion\n",
    "ACCESS_ID = '7k8nmm5r8je8xkfa3x8s'\n",
    "ACCESS_KEY = '120a7baeabcc40d2b1a25072547fcf22'\n",
    "\n",
    "#Servidor\n",
    "ENDPOINT = 'https://openapi-ueaz.tuyaus.com'\n",
    "\n",
    "USERNAME = 'DesinGlasssmartwindows@gmail.com'\n",
    "PASSWORD = 'DesinGlass0119*'\n",
    "\n",
    "DEVICE_ID = '60450132500291b103a0'"
   ]
  },
  {
   "cell_type": "code",
   "execution_count": 3,
   "metadata": {},
   "outputs": [
    {
     "data": {
      "text/plain": [
       "{'result': {'access_token': 'a414fcd61225810fee06f14b50324503',\n",
       "  'expire_time': 6445,\n",
       "  'refresh_token': '6e9cb53cf7239b4efd9904e890e052da',\n",
       "  'uid': 'bay1674576986329RxJd'},\n",
       " 'success': True,\n",
       " 't': 1674850999170,\n",
       " 'tid': '7005e43c9e8011edbe3bba6bfb4d0dc8'}"
      ]
     },
     "execution_count": 3,
     "metadata": {},
     "output_type": "execute_result"
    }
   ],
   "source": [
    "from tuya_connector import TuyaOpenAPI\n",
    "\n",
    "openapi = TuyaOpenAPI(ENDPOINT,ACCESS_ID, ACCESS_KEY)\n",
    "openapi.connect()"
   ]
  },
  {
   "cell_type": "code",
   "execution_count": 4,
   "metadata": {},
   "outputs": [
    {
     "data": {
      "text/plain": [
       "{'result': {'category': 'dj',\n",
       "  'functions': [{'code': 'switch_led',\n",
       "    'desc': '{}',\n",
       "    'name': '开关',\n",
       "    'type': 'Boolean',\n",
       "    'values': '{}'},\n",
       "   {'code': 'bright_value',\n",
       "    'desc': '{\"min\":25,\"scale\":0,\"unit\":\"\",\"max\":255,\"step\":1}',\n",
       "    'name': '亮度',\n",
       "    'type': 'Integer',\n",
       "    'values': '{\"min\":25,\"scale\":0,\"unit\":\"\",\"max\":255,\"step\":1}'},\n",
       "   {'code': 'work_mode',\n",
       "    'desc': '{\"range\":[\"white\",\"colour\"]}',\n",
       "    'name': '工作模式',\n",
       "    'type': 'Enum',\n",
       "    'values': '{\"range\":[\"white\",\"colour\"]}'},\n",
       "   {'code': 'colour_data',\n",
       "    'desc': '{\"h\":{\"min\":1,\"scale\":0,\"unit\":\"\",\"max\":360,\"step\":1},\"s\":{\"min\":1,\"scale\":0,\"unit\":\"\",\"max\":255,\"step\":1},\"v\":{\"min\":1,\"scale\":0,\"unit\":\"\",\"max\":255,\"step\":1}}',\n",
       "    'name': '彩光模式数',\n",
       "    'type': 'Json',\n",
       "    'values': '{\"h\":{\"min\":1,\"scale\":0,\"unit\":\"\",\"max\":360,\"step\":1},\"s\":{\"min\":1,\"scale\":0,\"unit\":\"\",\"max\":255,\"step\":1},\"v\":{\"min\":1,\"scale\":0,\"unit\":\"\",\"max\":255,\"step\":1}}'},\n",
       "   {'code': 'scene_data',\n",
       "    'desc': '{\"h\":{\"min\":1,\"scale\":0,\"unit\":\"\",\"max\":360,\"step\":1},\"s\":{\"min\":1,\"scale\":0,\"unit\":\"\",\"max\":255,\"step\":1},\"v\":{\"min\":1,\"scale\":0,\"unit\":\"\",\"max\":255,\"step\":1}}',\n",
       "    'name': '情景模式数',\n",
       "    'type': 'Json',\n",
       "    'values': '{\"h\":{\"min\":1,\"scale\":0,\"unit\":\"\",\"max\":360,\"step\":1},\"s\":{\"min\":1,\"scale\":0,\"unit\":\"\",\"max\":255,\"step\":1},\"v\":{\"min\":1,\"scale\":0,\"unit\":\"\",\"max\":255,\"step\":1}}'},\n",
       "   {'code': 'flash_scene_1',\n",
       "    'desc': '{\"h\":{\"min\":1,\"scale\":0,\"unit\":\"\",\"max\":360,\"step\":1},\"s\":{\"min\":1,\"scale\":0,\"unit\":\"\",\"max\":255,\"step\":1},\"v\":{\"min\":1,\"scale\":0,\"unit\":\"\",\"max\":255,\"step\":1}}',\n",
       "    'name': '柔光模式',\n",
       "    'type': 'Json',\n",
       "    'values': '{\"h\":{\"min\":1,\"scale\":0,\"unit\":\"\",\"max\":360,\"step\":1},\"s\":{\"min\":1,\"scale\":0,\"unit\":\"\",\"max\":255,\"step\":1},\"v\":{\"min\":1,\"scale\":0,\"unit\":\"\",\"max\":255,\"step\":1}}'},\n",
       "   {'code': 'flash_scene_2',\n",
       "    'desc': '{\"h\":{\"min\":1,\"scale\":0,\"unit\":\"\",\"max\":360,\"step\":1},\"s\":{\"min\":1,\"scale\":0,\"unit\":\"\",\"max\":255,\"step\":1},\"v\":{\"min\":1,\"scale\":0,\"unit\":\"\",\"max\":255,\"step\":1}}',\n",
       "    'name': '缤纷模式',\n",
       "    'type': 'Json',\n",
       "    'values': '{\"h\":{\"min\":1,\"scale\":0,\"unit\":\"\",\"max\":360,\"step\":1},\"s\":{\"min\":1,\"scale\":0,\"unit\":\"\",\"max\":255,\"step\":1},\"v\":{\"min\":1,\"scale\":0,\"unit\":\"\",\"max\":255,\"step\":1}}'},\n",
       "   {'code': 'flash_scene_3',\n",
       "    'desc': '{\"h\":{\"min\":1,\"scale\":0,\"unit\":\"\",\"max\":360,\"step\":1},\"s\":{\"min\":1,\"scale\":0,\"unit\":\"\",\"max\":255,\"step\":1},\"v\":{\"min\":1,\"scale\":0,\"unit\":\"\",\"max\":255,\"step\":1}}',\n",
       "    'name': '炫彩模式',\n",
       "    'type': 'Json',\n",
       "    'values': '{\"h\":{\"min\":1,\"scale\":0,\"unit\":\"\",\"max\":360,\"step\":1},\"s\":{\"min\":1,\"scale\":0,\"unit\":\"\",\"max\":255,\"step\":1},\"v\":{\"min\":1,\"scale\":0,\"unit\":\"\",\"max\":255,\"step\":1}}'},\n",
       "   {'code': 'flash_scene_4',\n",
       "    'desc': '{\"h\":{\"min\":1,\"scale\":0,\"unit\":\"\",\"max\":360,\"step\":1},\"s\":{\"min\":1,\"scale\":0,\"unit\":\"\",\"max\":255,\"step\":1},\"v\":{\"min\":1,\"scale\":0,\"unit\":\"\",\"max\":255,\"step\":1}}',\n",
       "    'name': '斑斓模式',\n",
       "    'type': 'Json',\n",
       "    'values': '{\"h\":{\"min\":1,\"scale\":0,\"unit\":\"\",\"max\":360,\"step\":1},\"s\":{\"min\":1,\"scale\":0,\"unit\":\"\",\"max\":255,\"step\":1},\"v\":{\"min\":1,\"scale\":0,\"unit\":\"\",\"max\":255,\"step\":1}}'}],\n",
       "  'status': [{'code': 'switch_led',\n",
       "    'name': '开关',\n",
       "    'type': 'Boolean',\n",
       "    'values': '{}'},\n",
       "   {'code': 'work_mode',\n",
       "    'name': '工作模式',\n",
       "    'type': 'Enum',\n",
       "    'values': '{\"range\":[\"white\",\"colour\"]}'},\n",
       "   {'code': 'bright_value',\n",
       "    'name': '亮度值',\n",
       "    'type': 'Integer',\n",
       "    'values': '{\"min\":25,\"scale\":0,\"unit\":\"\",\"max\":255,\"step\":1}'},\n",
       "   {'code': 'colour_data',\n",
       "    'name': '彩光模式数',\n",
       "    'type': 'Json',\n",
       "    'values': '{\"h\":{\"min\":1,\"scale\":0,\"unit\":\"\",\"max\":360,\"step\":1},\"s\":{\"min\":1,\"scale\":0,\"unit\":\"\",\"max\":255,\"step\":1},\"v\":{\"min\":1,\"scale\":0,\"unit\":\"\",\"max\":255,\"step\":1}}'},\n",
       "   {'code': 'scene_data',\n",
       "    'name': '情景模式数',\n",
       "    'type': 'Json',\n",
       "    'values': '{\"h\":{\"min\":1,\"scale\":0,\"unit\":\"\",\"max\":360,\"step\":1},\"s\":{\"min\":1,\"scale\":0,\"unit\":\"\",\"max\":255,\"step\":1},\"v\":{\"min\":1,\"scale\":0,\"unit\":\"\",\"max\":255,\"step\":1}}'},\n",
       "   {'code': 'flash_scene_1',\n",
       "    'name': '柔光模式',\n",
       "    'type': 'Json',\n",
       "    'values': '{\"h\":{\"min\":1,\"scale\":0,\"unit\":\"\",\"max\":360,\"step\":1},\"s\":{\"min\":1,\"scale\":0,\"unit\":\"\",\"max\":255,\"step\":1},\"v\":{\"min\":1,\"scale\":0,\"unit\":\"\",\"max\":255,\"step\":1}}'},\n",
       "   {'code': 'flash_scene_2',\n",
       "    'name': '缤纷模式',\n",
       "    'type': 'Json',\n",
       "    'values': '{\"h\":{\"min\":1,\"scale\":0,\"unit\":\"\",\"max\":360,\"step\":1},\"s\":{\"min\":1,\"scale\":0,\"unit\":\"\",\"max\":255,\"step\":1},\"v\":{\"min\":1,\"scale\":0,\"unit\":\"\",\"max\":255,\"step\":1}}'},\n",
       "   {'code': 'flash_scene_3',\n",
       "    'name': '炫彩模式',\n",
       "    'type': 'Json',\n",
       "    'values': '{\"h\":{\"min\":1,\"scale\":0,\"unit\":\"\",\"max\":360,\"step\":1},\"s\":{\"min\":1,\"scale\":0,\"unit\":\"\",\"max\":255,\"step\":1},\"v\":{\"min\":1,\"scale\":0,\"unit\":\"\",\"max\":255,\"step\":1}}'},\n",
       "   {'code': 'flash_scene_4',\n",
       "    'name': '斑斓模式',\n",
       "    'type': 'Json',\n",
       "    'values': '{\"h\":{\"min\":1,\"scale\":0,\"unit\":\"\",\"max\":360,\"step\":1},\"s\":{\"min\":1,\"scale\":0,\"unit\":\"\",\"max\":255,\"step\":1},\"v\":{\"min\":1,\"scale\":0,\"unit\":\"\",\"max\":255,\"step\":1}}'}]},\n",
       " 'success': True,\n",
       " 't': 1674851004484,\n",
       " 'tid': '73028c0b9e8011edae6bde37e7487402'}"
      ]
     },
     "execution_count": 4,
     "metadata": {},
     "output_type": "execute_result"
    }
   ],
   "source": [
    "respuesta = openapi.get(\"/v1.0/iot-03/devices/{}/specification\".format(DEVICE_ID))\n",
    "respuesta"
   ]
  },
  {
   "cell_type": "code",
   "execution_count": 5,
   "metadata": {},
   "outputs": [
    {
     "data": {
      "text/plain": [
       "{'result': [{'code': 'switch_led', 'value': False},\n",
       "  {'code': 'work_mode', 'value': 'colour'},\n",
       "  {'code': 'bright_value', 'value': 255},\n",
       "  {'code': 'colour_data', 'value': '{\"h\":108.0,\"s\":204.0,\"v\":12.0}'},\n",
       "  {'code': 'scene_data', 'value': '{\"h\":0.0,\"s\":0.0,\"v\":0.0}'},\n",
       "  {'code': 'flash_scene_1',\n",
       "   'value': '{\"bright\":255,\"frequency\":80,\"hsv\":[{\"h\":120.0,\"s\":255.0,\"v\":255.0}],\"temperature\":255}'},\n",
       "  {'code': 'flash_scene_2',\n",
       "   'value': '{\"bright\":255,\"frequency\":128,\"hsv\":[{\"h\":0.0,\"s\":255.0,\"v\":255.0},{\"h\":120.0,\"s\":255.0,\"v\":255.0},{\"h\":240.0,\"s\":255.0,\"v\":255.0},{\"h\":0.0,\"s\":0.0,\"v\":0.0},{\"h\":0.0,\"s\":0.0,\"v\":0.0},{\"h\":0.0,\"s\":0.0,\"v\":0.0}],\"temperature\":255}'},\n",
       "  {'code': 'flash_scene_3',\n",
       "   'value': '{\"bright\":255,\"frequency\":80,\"hsv\":[{\"h\":0.0,\"s\":255.0,\"v\":255.0}],\"temperature\":255}'},\n",
       "  {'code': 'flash_scene_4',\n",
       "   'value': '{\"bright\":255,\"frequency\":5,\"hsv\":[{\"h\":0.0,\"s\":255.0,\"v\":255.0},{\"h\":120.0,\"s\":255.0,\"v\":255.0},{\"h\":60.0,\"s\":255.0,\"v\":255.0},{\"h\":300.0,\"s\":255.0,\"v\":255.0},{\"h\":240.0,\"s\":255.0,\"v\":255.0},{\"h\":0.0,\"s\":0.0,\"v\":0.0}],\"temperature\":255}'}],\n",
       " 'success': True,\n",
       " 't': 1674851007921,\n",
       " 'tid': '752bc0bd9e8011edae6bde37e7487402'}"
      ]
     },
     "execution_count": 5,
     "metadata": {},
     "output_type": "execute_result"
    }
   ],
   "source": [
    "respuesta = openapi.get(\"/v1.0/iot-03/devices/{}/status\".format(DEVICE_ID))\n",
    "respuesta"
   ]
  },
  {
   "cell_type": "code",
   "execution_count": 54,
   "metadata": {},
   "outputs": [
    {
     "data": {
      "text/plain": [
       "{'code': 2001,\n",
       " 'msg': 'device is offline',\n",
       " 'success': False,\n",
       " 't': 1674604415161,\n",
       " 'tid': '5082813e9c4211edbe3bba6bfb4d0dc8'}"
      ]
     },
     "execution_count": 54,
     "metadata": {},
     "output_type": "execute_result"
    }
   ],
   "source": [
    "command = {\"commands\":[{\"code\":\"switch_led\",\"value\":False}]} \n",
    "openapi.post(\"/v1.0/iot-03/devices/{}/commands\" .format(DEVICE_ID), command)"
   ]
  }
 ],
 "metadata": {
  "kernelspec": {
   "display_name": "Python 3",
   "language": "python",
   "name": "python3"
  },
  "language_info": {
   "codemirror_mode": {
    "name": "ipython",
    "version": 3
   },
   "file_extension": ".py",
   "mimetype": "text/x-python",
   "name": "python",
   "nbconvert_exporter": "python",
   "pygments_lexer": "ipython3",
   "version": "3.10.6"
  },
  "orig_nbformat": 4,
  "vscode": {
   "interpreter": {
    "hash": "b2544cc5705cea8b29156e99d06c753f1925e5dc5150c508a6d75d153b75e1a5"
   }
  }
 },
 "nbformat": 4,
 "nbformat_minor": 2
}
