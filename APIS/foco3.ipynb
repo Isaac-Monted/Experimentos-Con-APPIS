{
 "cells": [
  {
   "cell_type": "code",
   "execution_count": 2,
   "metadata": {},
   "outputs": [],
   "source": [
    "import tensorflow as Tf\n",
    "import matplotlib.pyplot as plp"
   ]
  },
  {
   "attachments": {},
   "cell_type": "markdown",
   "metadata": {},
   "source": [
    "DATOS DE CONEXION API"
   ]
  },
  {
   "cell_type": "code",
   "execution_count": 1,
   "metadata": {},
   "outputs": [
    {
     "data": {
      "text/plain": [
       "{'result': {'access_token': '52177289d6c53e4c278cfc7f21adf7a5',\n",
       "  'expire_time': 6372,\n",
       "  'refresh_token': 'd3faf50dbc00c3245eeb33aed7df9bcc',\n",
       "  'uid': 'bay1674576986329RxJd'},\n",
       " 'success': True,\n",
       " 't': 1674685848830,\n",
       " 'tid': 'eabdb1b29cff11edae6bde37e7487402'}"
      ]
     },
     "execution_count": 1,
     "metadata": {},
     "output_type": "execute_result"
    }
   ],
   "source": [
    "#Datos de configuracion\n",
    "ACCESS_ID = '7k8nmm5r8je8xkfa3x8s'\n",
    "ACCESS_KEY = '120a7baeabcc40d2b1a25072547fcf22'\n",
    "\n",
    "#Servidor\n",
    "ENDPOINT = 'https://openapi-ueaz.tuyaus.com'\n",
    "\n",
    "USERNAME = 'DesinGlasssmartwindows@gmail.com'\n",
    "PASSWORD = 'DesinGlass0119*'\n",
    "\n",
    "DEVICE_ID = '60450132500291b103a0'\n",
    "\n",
    "from tuya_connector import TuyaOpenAPI\n",
    "\n",
    "openapi = TuyaOpenAPI(ENDPOINT,ACCESS_ID, ACCESS_KEY)\n",
    "openapi.connect()"
   ]
  },
  {
   "attachments": {},
   "cell_type": "markdown",
   "metadata": {},
   "source": [
    "RED NEURONAL"
   ]
  },
  {
   "cell_type": "code",
   "execution_count": 11,
   "metadata": {},
   "outputs": [
    {
     "name": "stdout",
     "output_type": "stream",
     "text": [
      "Inico de Entrenamiento . . .\n",
      "Modelo Entrenado\n"
     ]
    }
   ],
   "source": [
    "features = [\n",
    "        (255,0,0),\n",
    "        (0,255,0),\n",
    "        (0,0,255),\n",
    "        (255,0,0),\n",
    "        (127,255,0),\n",
    "        (0,255,255),\n",
    "        (127,0,255),\n",
    "        (127,0,4),\n",
    "        (255,191,0),\n",
    "        (0,255,63),\n",
    "        (0,63,255),\n",
    "        (255,0,191),\n",
    "        (255,106,0),\n",
    "        (255,93,0),\n",
    "        (255,255,0),\n",
    "        (0,255,157),\n",
    "        (29,0,255),\n",
    "        (255,0,97),\n",
    "        (0,255,165)\n",
    "]\n",
    "\n",
    "targets = [0,120,240,0,90,180,270,359,45,135,225,315,25,22,67,157,247,337,159]\n",
    "\n",
    "CapaEntrada = Tf.keras.layers.Dense(units=3, input_shape=[3])\n",
    "CapaOculta0 = Tf.keras.layers.Dense(units=3)\n",
    "CapaOculta1 = Tf.keras.layers.Dense(units=3)\n",
    "CapaSalida = Tf.keras.layers.Dense(units=1)\n",
    "\n",
    "Modelo = Tf.keras.Sequential([CapaEntrada,CapaOculta0,CapaOculta1,CapaSalida])\n",
    "\n",
    "Modelo.compile(\n",
    "    optimizer=Tf.keras.optimizers.Adam(0.35),\n",
    "    loss='mean_squared_error'\n",
    ")\n",
    "\n",
    "print('Inico de Entrenamiento . . .')\n",
    "historial = Modelo.fit(features, targets, epochs=1500, verbose=False)\n",
    "print('Modelo Entrenado')"
   ]
  },
  {
   "attachments": {},
   "cell_type": "markdown",
   "metadata": {},
   "source": [
    "GRAFICAR APRENDIZAGE"
   ]
  },
  {
   "cell_type": "code",
   "execution_count": 12,
   "metadata": {},
   "outputs": [
    {
     "data": {
      "image/png": "[encoded data removed]",
      "text/plain": [
       "<Figure size 640x480 with 1 Axes>"
      ]
     },
     "metadata": {},
     "output_type": "display_data"
    }
   ],
   "source": [
    "plp.xlabel('#Epoca')\n",
    "plp.ylabel('Magnitud de Perdida')\n",
    "plp.plot(historial.history['loss'])\n",
    "plp.show()"
   ]
  },
  {
   "attachments": {},
   "cell_type": "markdown",
   "metadata": {},
   "source": [
    "ESTADO DE EL FOCO"
   ]
  },
  {
   "cell_type": "code",
   "execution_count": 7,
   "metadata": {},
   "outputs": [
    {
     "data": {
      "text/plain": [
       "{'result': {'category': 'dj',\n",
       "  'functions': [{'code': 'switch_led',\n",
       "    'desc': '{}',\n",
       "    'name': '开关',\n",
       "    'type': 'Boolean',\n",
       "    'values': '{}'},\n",
       "   {'code': 'bright_value',\n",
       "    'desc': '{\"min\":25,\"scale\":0,\"unit\":\"\",\"max\":255,\"step\":1}',\n",
       "    'name': '亮度',\n",
       "    'type': 'Integer',\n",
       "    'values': '{\"min\":25,\"scale\":0,\"unit\":\"\",\"max\":255,\"step\":1}'},\n",
       "   {'code': 'work_mode',\n",
       "    'desc': '{\"range\":[\"white\",\"colour\"]}',\n",
       "    'name': '工作模式',\n",
       "    'type': 'Enum',\n",
       "    'values': '{\"range\":[\"white\",\"colour\"]}'},\n",
       "   {'code': 'colour_data',\n",
       "    'desc': '{\"h\":{\"min\":1,\"scale\":0,\"unit\":\"\",\"max\":360,\"step\":1},\"s\":{\"min\":1,\"scale\":0,\"unit\":\"\",\"max\":255,\"step\":1},\"v\":{\"min\":1,\"scale\":0,\"unit\":\"\",\"max\":255,\"step\":1}}',\n",
       "    'name': '彩光模式数',\n",
       "    'type': 'Json',\n",
       "    'values': '{\"h\":{\"min\":1,\"scale\":0,\"unit\":\"\",\"max\":360,\"step\":1},\"s\":{\"min\":1,\"scale\":0,\"unit\":\"\",\"max\":255,\"step\":1},\"v\":{\"min\":1,\"scale\":0,\"unit\":\"\",\"max\":255,\"step\":1}}'},\n",
       "   {'code': 'scene_data',\n",
       "    'desc': '{\"h\":{\"min\":1,\"scale\":0,\"unit\":\"\",\"max\":360,\"step\":1},\"s\":{\"min\":1,\"scale\":0,\"unit\":\"\",\"max\":255,\"step\":1},\"v\":{\"min\":1,\"scale\":0,\"unit\":\"\",\"max\":255,\"step\":1}}',\n",
       "    'name': '情景模式数',\n",
       "    'type': 'Json',\n",
       "    'values': '{\"h\":{\"min\":1,\"scale\":0,\"unit\":\"\",\"max\":360,\"step\":1},\"s\":{\"min\":1,\"scale\":0,\"unit\":\"\",\"max\":255,\"step\":1},\"v\":{\"min\":1,\"scale\":0,\"unit\":\"\",\"max\":255,\"step\":1}}'},\n",
       "   {'code': 'flash_scene_1',\n",
       "    'desc': '{\"h\":{\"min\":1,\"scale\":0,\"unit\":\"\",\"max\":360,\"step\":1},\"s\":{\"min\":1,\"scale\":0,\"unit\":\"\",\"max\":255,\"step\":1},\"v\":{\"min\":1,\"scale\":0,\"unit\":\"\",\"max\":255,\"step\":1}}',\n",
       "    'name': '柔光模式',\n",
       "    'type': 'Json',\n",
       "    'values': '{\"h\":{\"min\":1,\"scale\":0,\"unit\":\"\",\"max\":360,\"step\":1},\"s\":{\"min\":1,\"scale\":0,\"unit\":\"\",\"max\":255,\"step\":1},\"v\":{\"min\":1,\"scale\":0,\"unit\":\"\",\"max\":255,\"step\":1}}'},\n",
       "   {'code': 'flash_scene_2',\n",
       "    'desc': '{\"h\":{\"min\":1,\"scale\":0,\"unit\":\"\",\"max\":360,\"step\":1},\"s\":{\"min\":1,\"scale\":0,\"unit\":\"\",\"max\":255,\"step\":1},\"v\":{\"min\":1,\"scale\":0,\"unit\":\"\",\"max\":255,\"step\":1}}',\n",
       "    'name': '缤纷模式',\n",
       "    'type': 'Json',\n",
       "    'values': '{\"h\":{\"min\":1,\"scale\":0,\"unit\":\"\",\"max\":360,\"step\":1},\"s\":{\"min\":1,\"scale\":0,\"unit\":\"\",\"max\":255,\"step\":1},\"v\":{\"min\":1,\"scale\":0,\"unit\":\"\",\"max\":255,\"step\":1}}'},\n",
       "   {'code': 'flash_scene_3',\n",
       "    'desc': '{\"h\":{\"min\":1,\"scale\":0,\"unit\":\"\",\"max\":360,\"step\":1},\"s\":{\"min\":1,\"scale\":0,\"unit\":\"\",\"max\":255,\"step\":1},\"v\":{\"min\":1,\"scale\":0,\"unit\":\"\",\"max\":255,\"step\":1}}',\n",
       "    'name': '炫彩模式',\n",
       "    'type': 'Json',\n",
       "    'values': '{\"h\":{\"min\":1,\"scale\":0,\"unit\":\"\",\"max\":360,\"step\":1},\"s\":{\"min\":1,\"scale\":0,\"unit\":\"\",\"max\":255,\"step\":1},\"v\":{\"min\":1,\"scale\":0,\"unit\":\"\",\"max\":255,\"step\":1}}'},\n",
       "   {'code': 'flash_scene_4',\n",
       "    'desc': '{\"h\":{\"min\":1,\"scale\":0,\"unit\":\"\",\"max\":360,\"step\":1},\"s\":{\"min\":1,\"scale\":0,\"unit\":\"\",\"max\":255,\"step\":1},\"v\":{\"min\":1,\"scale\":0,\"unit\":\"\",\"max\":255,\"step\":1}}',\n",
       "    'name': '斑斓模式',\n",
       "    'type': 'Json',\n",
       "    'values': '{\"h\":{\"min\":1,\"scale\":0,\"unit\":\"\",\"max\":360,\"step\":1},\"s\":{\"min\":1,\"scale\":0,\"unit\":\"\",\"max\":255,\"step\":1},\"v\":{\"min\":1,\"scale\":0,\"unit\":\"\",\"max\":255,\"step\":1}}'}],\n",
       "  'status': [{'code': 'switch_led',\n",
       "    'name': '开关',\n",
       "    'type': 'Boolean',\n",
       "    'values': '{}'},\n",
       "   {'code': 'work_mode',\n",
       "    'name': '工作模式',\n",
       "    'type': 'Enum',\n",
       "    'values': '{\"range\":[\"white\",\"colour\"]}'},\n",
       "   {'code': 'bright_value',\n",
       "    'name': '亮度值',\n",
       "    'type': 'Integer',\n",
       "    'values': '{\"min\":25,\"scale\":0,\"unit\":\"\",\"max\":255,\"step\":1}'},\n",
       "   {'code': 'colour_data',\n",
       "    'name': '彩光模式数',\n",
       "    'type': 'Json',\n",
       "    'values': '{\"h\":{\"min\":1,\"scale\":0,\"unit\":\"\",\"max\":360,\"step\":1},\"s\":{\"min\":1,\"scale\":0,\"unit\":\"\",\"max\":255,\"step\":1},\"v\":{\"min\":1,\"scale\":0,\"unit\":\"\",\"max\":255,\"step\":1}}'},\n",
       "   {'code': 'scene_data',\n",
       "    'name': '情景模式数',\n",
       "    'type': 'Json',\n",
       "    'values': '{\"h\":{\"min\":1,\"scale\":0,\"unit\":\"\",\"max\":360,\"step\":1},\"s\":{\"min\":1,\"scale\":0,\"unit\":\"\",\"max\":255,\"step\":1},\"v\":{\"min\":1,\"scale\":0,\"unit\":\"\",\"max\":255,\"step\":1}}'},\n",
       "   {'code': 'flash_scene_1',\n",
       "    'name': '柔光模式',\n",
       "    'type': 'Json',\n",
       "    'values': '{\"h\":{\"min\":1,\"scale\":0,\"unit\":\"\",\"max\":360,\"step\":1},\"s\":{\"min\":1,\"scale\":0,\"unit\":\"\",\"max\":255,\"step\":1},\"v\":{\"min\":1,\"scale\":0,\"unit\":\"\",\"max\":255,\"step\":1}}'},\n",
       "   {'code': 'flash_scene_2',\n",
       "    'name': '缤纷模式',\n",
       "    'type': 'Json',\n",
       "    'values': '{\"h\":{\"min\":1,\"scale\":0,\"unit\":\"\",\"max\":360,\"step\":1},\"s\":{\"min\":1,\"scale\":0,\"unit\":\"\",\"max\":255,\"step\":1},\"v\":{\"min\":1,\"scale\":0,\"unit\":\"\",\"max\":255,\"step\":1}}'},\n",
       "   {'code': 'flash_scene_3',\n",
       "    'name': '炫彩模式',\n",
       "    'type': 'Json',\n",
       "    'values': '{\"h\":{\"min\":1,\"scale\":0,\"unit\":\"\",\"max\":360,\"step\":1},\"s\":{\"min\":1,\"scale\":0,\"unit\":\"\",\"max\":255,\"step\":1},\"v\":{\"min\":1,\"scale\":0,\"unit\":\"\",\"max\":255,\"step\":1}}'},\n",
       "   {'code': 'flash_scene_4',\n",
       "    'name': '斑斓模式',\n",
       "    'type': 'Json',\n",
       "    'values': '{\"h\":{\"min\":1,\"scale\":0,\"unit\":\"\",\"max\":360,\"step\":1},\"s\":{\"min\":1,\"scale\":0,\"unit\":\"\",\"max\":255,\"step\":1},\"v\":{\"min\":1,\"scale\":0,\"unit\":\"\",\"max\":255,\"step\":1}}'}]},\n",
       " 'success': True,\n",
       " 't': 1674685953663,\n",
       " 'tid': '2935284a9d0011edae6bde37e7487402'}"
      ]
     },
     "execution_count": 7,
     "metadata": {},
     "output_type": "execute_result"
    }
   ],
   "source": [
    "respuesta = openapi.get(\"/v1.0/iot-03/devices/{}/specification\".format(DEVICE_ID))\n",
    "respuesta"
   ]
  },
  {
   "attachments": {},
   "cell_type": "markdown",
   "metadata": {},
   "source": [
    "ENCENDIDO / APAGADO"
   ]
  },
  {
   "cell_type": "code",
   "execution_count": 8,
   "metadata": {},
   "outputs": [
    {
     "data": {
      "text/plain": [
       "{'result': True,\n",
       " 'success': True,\n",
       " 't': 1674685978464,\n",
       " 'tid': '37fb61a09d0011edae6bde37e7487402'}"
      ]
     },
     "execution_count": 8,
     "metadata": {},
     "output_type": "execute_result"
    }
   ],
   "source": [
    "Estado = True\n",
    "\n",
    "command = {\"commands\":[{\"code\":\"switch_led\",\"value\":Estado}]} \n",
    "openapi.post(\"/v1.0/iot-03/devices/{}/commands\" .format(DEVICE_ID), command)"
   ]
  },
  {
   "attachments": {},
   "cell_type": "markdown",
   "metadata": {},
   "source": [
    "CAMBIAR COLOR"
   ]
  },
  {
   "cell_type": "code",
   "execution_count": 13,
   "metadata": {},
   "outputs": [
    {
     "name": "stdout",
     "output_type": "stream",
     "text": [
      "1/1 [==============================] - 0s 68ms/step\n",
      "95.02248\n"
     ]
    },
    {
     "ename": "TypeError",
     "evalue": "Object of type float32 is not JSON serializable",
     "output_type": "error",
     "traceback": [
      "\u001b[1;31m---------------------------------------------------------------------------\u001b[0m",
      "\u001b[1;31mTypeError\u001b[0m                                 Traceback (most recent call last)",
      "Cell \u001b[1;32mIn[13], line 17\u001b[0m\n\u001b[0;32m     14\u001b[0m V \u001b[39m=\u001b[39m L \n\u001b[0;32m     16\u001b[0m command \u001b[39m=\u001b[39m {\u001b[39m\"\u001b[39m\u001b[39mcommands\u001b[39m\u001b[39m\"\u001b[39m:[{\u001b[39m\"\u001b[39m\u001b[39mcode\u001b[39m\u001b[39m\"\u001b[39m:\u001b[39m\"\u001b[39m\u001b[39mcolour_data\u001b[39m\u001b[39m\"\u001b[39m,\u001b[39m\"\u001b[39m\u001b[39mvalue\u001b[39m\u001b[39m\"\u001b[39m:{\u001b[39m\"\u001b[39m\u001b[39mh\u001b[39m\u001b[39m\"\u001b[39m:H,\u001b[39m\"\u001b[39m\u001b[39ms\u001b[39m\u001b[39m\"\u001b[39m:S, \u001b[39m\"\u001b[39m\u001b[39mv\u001b[39m\u001b[39m\"\u001b[39m:V}}]} \n\u001b[1;32m---> 17\u001b[0m openapi\u001b[39m.\u001b[39;49mpost(\u001b[39m\"\u001b[39;49m\u001b[39m/v1.0/iot-03/devices/\u001b[39;49m\u001b[39m{}\u001b[39;49;00m\u001b[39m/commands\u001b[39;49m\u001b[39m\"\u001b[39;49m \u001b[39m.\u001b[39;49mformat(DEVICE_ID), command)\n",
      "File \u001b[1;32mc:\\Users\\OFICINA\\AppData\\Local\\Programs\\Python\\Python310\\lib\\site-packages\\tuya_connector\\openapi.py:268\u001b[0m, in \u001b[0;36mTuyaOpenAPI.post\u001b[1;34m(self, path, body)\u001b[0m\n\u001b[0;32m    254\u001b[0m \u001b[39mdef\u001b[39;00m \u001b[39mpost\u001b[39m(\n\u001b[0;32m    255\u001b[0m     \u001b[39mself\u001b[39m, path: \u001b[39mstr\u001b[39m, body: Optional[Dict[\u001b[39mstr\u001b[39m, Any]] \u001b[39m=\u001b[39m \u001b[39mNone\u001b[39;00m\n\u001b[0;32m    256\u001b[0m ) \u001b[39m-\u001b[39m\u001b[39m>\u001b[39m Dict[\u001b[39mstr\u001b[39m, Any]:\n\u001b[0;32m    257\u001b[0m \u001b[39m    \u001b[39m\u001b[39m\"\"\"Http Post.\u001b[39;00m\n\u001b[0;32m    258\u001b[0m \n\u001b[0;32m    259\u001b[0m \u001b[39m    Requests the server to update specified resources.\u001b[39;00m\n\u001b[1;32m   (...)\u001b[0m\n\u001b[0;32m    266\u001b[0m \u001b[39m        response: response body\u001b[39;00m\n\u001b[0;32m    267\u001b[0m \u001b[39m    \"\"\"\u001b[39;00m\n\u001b[1;32m--> 268\u001b[0m     \u001b[39mreturn\u001b[39;00m \u001b[39mself\u001b[39;49m\u001b[39m.\u001b[39;49m__request(\u001b[39m\"\u001b[39;49m\u001b[39mPOST\u001b[39;49m\u001b[39m\"\u001b[39;49m, path, \u001b[39mNone\u001b[39;49;00m, body)\n",
      "File \u001b[1;32mc:\\Users\\OFICINA\\AppData\\Local\\Programs\\Python\\Python310\\lib\\site-packages\\tuya_connector\\openapi.py:194\u001b[0m, in \u001b[0;36mTuyaOpenAPI.__request\u001b[1;34m(self, method, path, params, body)\u001b[0m\n\u001b[0;32m    191\u001b[0m \u001b[39mif\u001b[39;00m \u001b[39mself\u001b[39m\u001b[39m.\u001b[39mtoken_info:\n\u001b[0;32m    192\u001b[0m     access_token \u001b[39m=\u001b[39m \u001b[39mself\u001b[39m\u001b[39m.\u001b[39mtoken_info\u001b[39m.\u001b[39maccess_token\n\u001b[1;32m--> 194\u001b[0m sign, t \u001b[39m=\u001b[39m \u001b[39mself\u001b[39;49m\u001b[39m.\u001b[39;49m_calculate_sign(method, path, params, body)\n\u001b[0;32m    195\u001b[0m headers \u001b[39m=\u001b[39m {\n\u001b[0;32m    196\u001b[0m     \u001b[39m\"\u001b[39m\u001b[39mclient_id\u001b[39m\u001b[39m\"\u001b[39m: \u001b[39mself\u001b[39m\u001b[39m.\u001b[39maccess_id,\n\u001b[0;32m    197\u001b[0m     \u001b[39m\"\u001b[39m\u001b[39msign\u001b[39m\u001b[39m\"\u001b[39m: sign,\n\u001b[1;32m   (...)\u001b[0m\n\u001b[0;32m    201\u001b[0m     \u001b[39m\"\u001b[39m\u001b[39mlang\u001b[39m\u001b[39m\"\u001b[39m: \u001b[39mself\u001b[39m\u001b[39m.\u001b[39mlang,\n\u001b[0;32m    202\u001b[0m }\n\u001b[0;32m    204\u001b[0m headers[\u001b[39m\"\u001b[39m\u001b[39mdev_lang\u001b[39m\u001b[39m\"\u001b[39m] \u001b[39m=\u001b[39m \u001b[39m\"\u001b[39m\u001b[39mpython\u001b[39m\u001b[39m\"\u001b[39m\n",
      "File \u001b[1;32mc:\\Users\\OFICINA\\AppData\\Local\\Programs\\Python\\Python310\\lib\\site-packages\\tuya_connector\\openapi.py:90\u001b[0m, in \u001b[0;36mTuyaOpenAPI._calculate_sign\u001b[1;34m(self, method, path, params, body)\u001b[0m\n\u001b[0;32m     86\u001b[0m str_to_sign \u001b[39m+\u001b[39m\u001b[39m=\u001b[39m \u001b[39m\"\u001b[39m\u001b[39m\\n\u001b[39;00m\u001b[39m\"\u001b[39m\n\u001b[0;32m     88\u001b[0m \u001b[39m# Content-SHA256\u001b[39;00m\n\u001b[0;32m     89\u001b[0m content_to_sha256 \u001b[39m=\u001b[39m (\n\u001b[1;32m---> 90\u001b[0m     \u001b[39m\"\u001b[39m\u001b[39m\"\u001b[39m \u001b[39mif\u001b[39;00m body \u001b[39mis\u001b[39;00m \u001b[39mNone\u001b[39;00m \u001b[39mor\u001b[39;00m \u001b[39mlen\u001b[39m(body\u001b[39m.\u001b[39mkeys()) \u001b[39m==\u001b[39m \u001b[39m0\u001b[39m \u001b[39melse\u001b[39;00m json\u001b[39m.\u001b[39;49mdumps(body)\n\u001b[0;32m     91\u001b[0m )\n\u001b[0;32m     93\u001b[0m str_to_sign \u001b[39m+\u001b[39m\u001b[39m=\u001b[39m (\n\u001b[0;32m     94\u001b[0m     hashlib\u001b[39m.\u001b[39msha256(content_to_sha256\u001b[39m.\u001b[39mencode(\n\u001b[0;32m     95\u001b[0m         \u001b[39m\"\u001b[39m\u001b[39mutf8\u001b[39m\u001b[39m\"\u001b[39m))\u001b[39m.\u001b[39mhexdigest()\u001b[39m.\u001b[39mlower()\n\u001b[0;32m     96\u001b[0m )\n\u001b[0;32m     97\u001b[0m str_to_sign \u001b[39m+\u001b[39m\u001b[39m=\u001b[39m \u001b[39m\"\u001b[39m\u001b[39m\\n\u001b[39;00m\u001b[39m\"\u001b[39m\n",
      "File \u001b[1;32mc:\\Users\\OFICINA\\AppData\\Local\\Programs\\Python\\Python310\\lib\\json\\__init__.py:231\u001b[0m, in \u001b[0;36mdumps\u001b[1;34m(obj, skipkeys, ensure_ascii, check_circular, allow_nan, cls, indent, separators, default, sort_keys, **kw)\u001b[0m\n\u001b[0;32m    226\u001b[0m \u001b[39m# cached encoder\u001b[39;00m\n\u001b[0;32m    227\u001b[0m \u001b[39mif\u001b[39;00m (\u001b[39mnot\u001b[39;00m skipkeys \u001b[39mand\u001b[39;00m ensure_ascii \u001b[39mand\u001b[39;00m\n\u001b[0;32m    228\u001b[0m     check_circular \u001b[39mand\u001b[39;00m allow_nan \u001b[39mand\u001b[39;00m\n\u001b[0;32m    229\u001b[0m     \u001b[39mcls\u001b[39m \u001b[39mis\u001b[39;00m \u001b[39mNone\u001b[39;00m \u001b[39mand\u001b[39;00m indent \u001b[39mis\u001b[39;00m \u001b[39mNone\u001b[39;00m \u001b[39mand\u001b[39;00m separators \u001b[39mis\u001b[39;00m \u001b[39mNone\u001b[39;00m \u001b[39mand\u001b[39;00m\n\u001b[0;32m    230\u001b[0m     default \u001b[39mis\u001b[39;00m \u001b[39mNone\u001b[39;00m \u001b[39mand\u001b[39;00m \u001b[39mnot\u001b[39;00m sort_keys \u001b[39mand\u001b[39;00m \u001b[39mnot\u001b[39;00m kw):\n\u001b[1;32m--> 231\u001b[0m     \u001b[39mreturn\u001b[39;00m _default_encoder\u001b[39m.\u001b[39;49mencode(obj)\n\u001b[0;32m    232\u001b[0m \u001b[39mif\u001b[39;00m \u001b[39mcls\u001b[39m \u001b[39mis\u001b[39;00m \u001b[39mNone\u001b[39;00m:\n\u001b[0;32m    233\u001b[0m     \u001b[39mcls\u001b[39m \u001b[39m=\u001b[39m JSONEncoder\n",
      "File \u001b[1;32mc:\\Users\\OFICINA\\AppData\\Local\\Programs\\Python\\Python310\\lib\\json\\encoder.py:199\u001b[0m, in \u001b[0;36mJSONEncoder.encode\u001b[1;34m(self, o)\u001b[0m\n\u001b[0;32m    195\u001b[0m         \u001b[39mreturn\u001b[39;00m encode_basestring(o)\n\u001b[0;32m    196\u001b[0m \u001b[39m# This doesn't pass the iterator directly to ''.join() because the\u001b[39;00m\n\u001b[0;32m    197\u001b[0m \u001b[39m# exceptions aren't as detailed.  The list call should be roughly\u001b[39;00m\n\u001b[0;32m    198\u001b[0m \u001b[39m# equivalent to the PySequence_Fast that ''.join() would do.\u001b[39;00m\n\u001b[1;32m--> 199\u001b[0m chunks \u001b[39m=\u001b[39m \u001b[39mself\u001b[39;49m\u001b[39m.\u001b[39;49miterencode(o, _one_shot\u001b[39m=\u001b[39;49m\u001b[39mTrue\u001b[39;49;00m)\n\u001b[0;32m    200\u001b[0m \u001b[39mif\u001b[39;00m \u001b[39mnot\u001b[39;00m \u001b[39misinstance\u001b[39m(chunks, (\u001b[39mlist\u001b[39m, \u001b[39mtuple\u001b[39m)):\n\u001b[0;32m    201\u001b[0m     chunks \u001b[39m=\u001b[39m \u001b[39mlist\u001b[39m(chunks)\n",
      "File \u001b[1;32mc:\\Users\\OFICINA\\AppData\\Local\\Programs\\Python\\Python310\\lib\\json\\encoder.py:257\u001b[0m, in \u001b[0;36mJSONEncoder.iterencode\u001b[1;34m(self, o, _one_shot)\u001b[0m\n\u001b[0;32m    252\u001b[0m \u001b[39melse\u001b[39;00m:\n\u001b[0;32m    253\u001b[0m     _iterencode \u001b[39m=\u001b[39m _make_iterencode(\n\u001b[0;32m    254\u001b[0m         markers, \u001b[39mself\u001b[39m\u001b[39m.\u001b[39mdefault, _encoder, \u001b[39mself\u001b[39m\u001b[39m.\u001b[39mindent, floatstr,\n\u001b[0;32m    255\u001b[0m         \u001b[39mself\u001b[39m\u001b[39m.\u001b[39mkey_separator, \u001b[39mself\u001b[39m\u001b[39m.\u001b[39mitem_separator, \u001b[39mself\u001b[39m\u001b[39m.\u001b[39msort_keys,\n\u001b[0;32m    256\u001b[0m         \u001b[39mself\u001b[39m\u001b[39m.\u001b[39mskipkeys, _one_shot)\n\u001b[1;32m--> 257\u001b[0m \u001b[39mreturn\u001b[39;00m _iterencode(o, \u001b[39m0\u001b[39;49m)\n",
      "File \u001b[1;32mc:\\Users\\OFICINA\\AppData\\Local\\Programs\\Python\\Python310\\lib\\json\\encoder.py:179\u001b[0m, in \u001b[0;36mJSONEncoder.default\u001b[1;34m(self, o)\u001b[0m\n\u001b[0;32m    160\u001b[0m \u001b[39mdef\u001b[39;00m \u001b[39mdefault\u001b[39m(\u001b[39mself\u001b[39m, o):\n\u001b[0;32m    161\u001b[0m \u001b[39m    \u001b[39m\u001b[39m\"\"\"Implement this method in a subclass such that it returns\u001b[39;00m\n\u001b[0;32m    162\u001b[0m \u001b[39m    a serializable object for ``o``, or calls the base implementation\u001b[39;00m\n\u001b[0;32m    163\u001b[0m \u001b[39m    (to raise a ``TypeError``).\u001b[39;00m\n\u001b[1;32m   (...)\u001b[0m\n\u001b[0;32m    177\u001b[0m \n\u001b[0;32m    178\u001b[0m \u001b[39m    \"\"\"\u001b[39;00m\n\u001b[1;32m--> 179\u001b[0m     \u001b[39mraise\u001b[39;00m \u001b[39mTypeError\u001b[39;00m(\u001b[39mf\u001b[39m\u001b[39m'\u001b[39m\u001b[39mObject of type \u001b[39m\u001b[39m{\u001b[39;00mo\u001b[39m.\u001b[39m\u001b[39m__class__\u001b[39m\u001b[39m.\u001b[39m\u001b[39m__name__\u001b[39m\u001b[39m}\u001b[39;00m\u001b[39m \u001b[39m\u001b[39m'\u001b[39m\n\u001b[0;32m    180\u001b[0m                     \u001b[39mf\u001b[39m\u001b[39m'\u001b[39m\u001b[39mis not JSON serializable\u001b[39m\u001b[39m'\u001b[39m)\n",
      "\u001b[1;31mTypeError\u001b[0m: Object of type float32 is not JSON serializable"
     ]
    }
   ],
   "source": [
    "R = 0\n",
    "G = 255\n",
    "B = 0\n",
    "S = 100\n",
    "L = 100\n",
    "\n",
    "resultado = Modelo.predict([(R,G,B)])\n",
    "resultado = resultado[0][0]\n",
    "\n",
    "print(resultado)\n",
    "\n",
    "H = resultado\n",
    "S = S\n",
    "V = L \n",
    "\n",
    "command = {\"commands\":[{\"code\":\"colour_data\",\"value\":{\"h\":H,\"s\":S, \"v\":V}}]} \n",
    "openapi.post(\"/v1.0/iot-03/devices/{}/commands\" .format(DEVICE_ID), command)"
   ]
  }
 ],
 "metadata": {
  "kernelspec": {
   "display_name": "Python 3",
   "language": "python",
   "name": "python3"
  },
  "language_info": {
   "codemirror_mode": {
    "name": "ipython",
    "version": 3
   },
   "file_extension": ".py",
   "mimetype": "text/x-python",
   "name": "python",
   "nbconvert_exporter": "python",
   "pygments_lexer": "ipython3",
   "version": "3.10.6 (tags/v3.10.6:9c7b4bd, Aug  1 2022, 21:53:49) [MSC v.1932 64 bit (AMD64)]"
  },
  "orig_nbformat": 4,
  "vscode": {
   "interpreter": {
    "hash": "b2544cc5705cea8b29156e99d06c753f1925e5dc5150c508a6d75d153b75e1a5"
   }
  }
 },
 "nbformat": 4,
 "nbformat_minor": 2
}
